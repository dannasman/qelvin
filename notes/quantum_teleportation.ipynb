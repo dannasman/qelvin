{
 "cells": [
  {
   "cell_type": "markdown",
   "id": "a89e399b-9e19-47d5-aa59-3d2e6dc7cc3f",
   "metadata": {},
   "source": [
    "## Quantum teleportation"
   ]
  },
  {
   "cell_type": "code",
   "execution_count": 1,
   "id": "13291f2e-ae4c-4175-a890-bc730f673bdc",
   "metadata": {},
   "outputs": [],
   "source": [
    "import numpy as np\n",
    "from qelvin import QCircuit, QRegister"
   ]
  },
  {
   "cell_type": "code",
   "execution_count": 2,
   "id": "4f6a9996-9486-4586-943e-4582ad203789",
   "metadata": {},
   "outputs": [
    {
     "name": "stdout",
     "output_type": "stream",
     "text": [
      "Initial state: \n",
      "[ 1.000+0.000*j  0.000+0.000*j  0.000+0.000*j \n",
      " 0.000+0.000*j  0.000+0.000*j  0.000+0.000*j \n",
      " 0.000+0.000*j  0.000+0.000*j ]\n",
      "alpha: (0.8660254037844387, 0.0), beta: (0.49999999999999994, 0.0)\n",
      "      ---------                        ---------                \n",
      "     |         |                      |         |               \n",
      "q0---|    U    |----------------o-----|    H    |-----o---------\n",
      "     |         |                |     |         |     |         \n",
      "      ---------                 |      ---------      |         \n",
      "      ---------             ---------                 |         \n",
      "     |         |           |         |                |         \n",
      "q1---|    H    |-----o-----|    X    |-----o----------|---------\n",
      "     |         |     |     |         |     |          |         \n",
      "      ---------      |      ---------      |          |         \n",
      "                 ---------             ---------  ---------     \n",
      "                |         |           |         ||         |    \n",
      "q2--------------|    X    |-----------|    X    ||    Z    |----\n",
      "                |         |           |         ||         |    \n",
      "                 ---------             ---------  ---------     \n",
      "\n",
      "Output state: \n",
      "[ 0.433+0.000*j  0.433+0.000*j  0.433+0.000*j \n",
      " 0.433+0.000*j  0.250+0.000*j  0.250-0.000*j \n",
      " 0.250+0.000*j  0.250-0.000*j ]\n",
      "q2 after measurement of q0 and q1: \n",
      "00 -> [ 0.866+0.0*j 0.5+0.0*j ]\n",
      "01 -> [ 0.866+0.0*j 0.5-0.0*j ]\n",
      "10 -> [ 0.866+0.0*j 0.5+0.0*j ]\n",
      "11 -> [ 0.866+0.0*j 0.5-0.0*j ]\n"
     ]
    }
   ],
   "source": [
    "psi_input = QRegister(3)\n",
    "\n",
    "print(\"Initial state: \")\n",
    "print(psi_input)\n",
    "\n",
    "circ_tel = QCircuit(psi_input)\n",
    "\n",
    "gamma = np.pi/3.0\n",
    "\n",
    "g00 = (np.cos(0.5*gamma), 0.0)\n",
    "g01 = (-np.sin(0.5*gamma), 0.0)\n",
    "g10 = (np.sin(0.5*gamma), 0.0)\n",
    "g11 = (np.cos(0.5*gamma), 0.0)\n",
    "\n",
    "print(\"alpha: {}, beta: {}\".format(g00, g10))\n",
    "\n",
    "circ_tel.u(g00, g01, g10, g11, 0)\n",
    "\n",
    "circ_tel.h(1)\n",
    "circ_tel.cx(1, 2)\n",
    "\n",
    "circ_tel.cx(0, 1)\n",
    "circ_tel.h(0)\n",
    "\n",
    "circ_tel.cx(1, 2)\n",
    "circ_tel.cz(0, 2)\n",
    "\n",
    "print(circ_tel)\n",
    "\n",
    "circ_tel.run()\n",
    "\n",
    "psi_output = circ_tel.state()\n",
    "\n",
    "print(\"Output state: \")\n",
    "print(psi_output)\n",
    "\n",
    "print(\"q2 after measurement of q0 and q1: \")\n",
    "(r0, i0) = psi_output[0b000]\n",
    "(r1, i1) = psi_output[0b100]\n",
    "k = np.sqrt(1 / (r0*r0 + i0*i0 + r1*r1 + i1*i1))\n",
    "print(\"00 -> [ {:.3}{:+.3}*j {:.3}{:+.3}*j ]\".format(k*r0, k*i0, k*r1, k*i1))\n",
    "\n",
    "(r0, i0) = psi_output[0b001]\n",
    "(r1, i1) = psi_output[0b101]\n",
    "k = np.sqrt(1 / (r0*r0 + i0*i0 + r1*r1 + i1*i1))\n",
    "print(\"01 -> [ {:.3}{:+.3}*j {:.3}{:+.3}*j ]\".format(k*r0, k*i0, k*r1, k*i1))\n",
    "\n",
    "(r0, i0) = psi_output[0b010]\n",
    "(r1, i1) = psi_output[0b110]\n",
    "k = np.sqrt(1 / (r0*r0 + i0*i0 + r1*r1 + i1*i1))\n",
    "print(\"10 -> [ {:.3}{:+.3}*j {:.3}{:+.3}*j ]\".format(k*r0, k*i0, k*r1, k*i1))\n",
    "\n",
    "(r0, i0) = psi_output[0b011]\n",
    "(r1, i1) = psi_output[0b111]\n",
    "k = np.sqrt(1 / (r0*r0 + i0*i0 + r1*r1 + i1*i1))\n",
    "print(\"11 -> [ {:.3}{:+.3}*j {:.3}{:+.3}*j ]\".format(k*r0, k*i0, k*r1, k*i1))"
   ]
  },
  {
   "cell_type": "code",
   "execution_count": null,
   "id": "d186b495-d799-469a-b6be-7b399f4df49c",
   "metadata": {},
   "outputs": [],
   "source": []
  }
 ],
 "metadata": {
  "kernelspec": {
   "display_name": "Python 3 (ipykernel)",
   "language": "python",
   "name": "python3"
  },
  "language_info": {
   "codemirror_mode": {
    "name": "ipython",
    "version": 3
   },
   "file_extension": ".py",
   "mimetype": "text/x-python",
   "name": "python",
   "nbconvert_exporter": "python",
   "pygments_lexer": "ipython3",
   "version": "3.10.12"
  }
 },
 "nbformat": 4,
 "nbformat_minor": 5
}
