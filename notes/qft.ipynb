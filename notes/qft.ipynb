{
 "cells": [
  {
   "cell_type": "code",
   "execution_count": 2,
   "id": "3d09003b",
   "metadata": {},
   "outputs": [],
   "source": [
    "import numpy as np\n",
    "import matplotlib.pyplot as plt\n",
    "import time\n",
    "\n",
    "from qiskit import QuantumRegister, QuantumCircuit\n",
    "from qiskit import Aer\n",
    "from qiskit.visualization import plot_state_city\n",
    "import qiskit.quantum_info as qi\n",
    "\n",
    "from qelvin import QRegister, QCircuit"
   ]
  },
  {
   "cell_type": "markdown",
   "id": "9410f1bb",
   "metadata": {},
   "source": [
    "## Quantum Fourier Transform"
   ]
  },
  {
   "cell_type": "markdown",
   "id": "ae638308",
   "metadata": {},
   "source": [
    "The quantum Fourier transform (QFT) on an orthonormal basis $|0\\rangle,...,|N-1\\rangle$ is defined to be a linear operator with the following action on the basis states,\n",
    "\n",
    "$$\n",
    "\\begin{equation}\n",
    "|j\\rangle\\rightarrow\\frac{1}{\\sqrt{N}}\\sum_{k=0}^{N-1}e^{\\frac{2\\pi ijk}{N}}|k\\rangle.\n",
    "\\end{equation}\n",
    "$$"
   ]
  },
  {
   "cell_type": "markdown",
   "id": "82971a6b",
   "metadata": {},
   "source": [
    "QFT of state $|\\Psi\\rangle=|000\\rangle$ is computed below."
   ]
  },
  {
   "cell_type": "code",
   "execution_count": 3,
   "id": "53ea52c9",
   "metadata": {},
   "outputs": [
    {
     "name": "stdout",
     "output_type": "stream",
     "text": [
      "State before QFT:\n",
      "Statevector([1.+0.j, 0.+0.j, 0.+0.j, 0.+0.j, 0.+0.j, 0.+0.j, 0.+0.j,\n",
      "             0.+0.j],\n",
      "            dims=(2, 2, 2))\n"
     ]
    },
    {
     "name": "stderr",
     "output_type": "stream",
     "text": [
      "/home/dan/Projects/QSim/qelvin/.env/lib/python3.10/site-packages/qiskit/visualization/circuit/matplotlib.py:266: FutureWarning: The default matplotlib drawer scheme will be changed to \"iqp\" in a following release. To silence this warning, specify the current default explicitly as style=\"clifford\", or the new default as style=\"iqp\".\n",
      "  self._style, def_font_ratio = load_style(self._style)\n"
     ]
    },
    {
     "data": {
      "image/png": "[encoded data removed]",
      "text/plain": [
       "<Figure size 891.005x284.278 with 1 Axes>"
      ]
     },
     "metadata": {},
     "output_type": "display_data"
    },
    {
     "name": "stdout",
     "output_type": "stream",
     "text": [
      "State after QFT:\n",
      "Statevector([0.354+0.j, 0.354+0.j, 0.354+0.j, 0.354+0.j, 0.354+0.j,\n",
      "             0.354+0.j, 0.354+0.j, 0.354+0.j],\n",
      "            dims=(2, 2, 2))\n"
     ]
    }
   ],
   "source": [
    "backend = Aer.get_backend('statevector_simulator')\n",
    "\n",
    "N = 3\n",
    "\n",
    "q = QuantumRegister(N)\n",
    "circ = QuantumCircuit(q)\n",
    "\n",
    "print(\"State before QFT:\")\n",
    "print(qi.Statevector.from_instruction(circ))\n",
    "\n",
    "for j in range(N):\n",
    "    for k in range(j):\n",
    "        circ.cp(np.pi/float(2**(j-k)), q[j], q[k])\n",
    "    circ.h(q[j])\n",
    "\n",
    "display(circ.draw('mpl'))\n",
    "\n",
    "job = backend.run(circ)\n",
    "\n",
    "result = job.result()\n",
    "\n",
    "outputstate_qiskit = result.get_statevector(circ, decimals=3)\n",
    "\n",
    "print(\"State after QFT:\")\n",
    "print(outputstate_qiskit)\n"
   ]
  },
  {
   "cell_type": "markdown",
   "id": "b5cc9df4-6938-4607-8a8a-c806545a626c",
   "metadata": {},
   "source": [
    "#### QFT with `qelvin`"
   ]
  },
  {
   "cell_type": "markdown",
   "id": "da49a996-885f-40d5-a43e-d7895e878c0a",
   "metadata": {},
   "source": [
    "QFT of state $|\\Psi\\rangle=|000\\rangle$ module is computed below using `qelvin`."
   ]
  },
  {
   "cell_type": "code",
   "execution_count": 6,
   "id": "664f9a62-884c-4802-903c-3e3d1725e11f",
   "metadata": {},
   "outputs": [
    {
     "name": "stdout",
     "output_type": "stream",
     "text": [
      "State before QFT:\n",
      "[ 1.000+0.000*j  0.000+0.000*j  0.000+0.000*j  0.000+0.000*j  0.000+0.000*j  0.000+0.000*j  0.000+0.000*j  0.000+0.000*j ]\n",
      "      ---------  ---------             ---------                           \n",
      "     |         ||         |           |         |                          \n",
      "q0---|    H    ||P(+1.571)|-----------|P(+0.785)|--------------------------\n",
      "     |         ||         |           |         |                          \n",
      "      ---------  ---------             ---------                           \n",
      "                     |      ---------      |      ---------                \n",
      "                     |     |         |     |     |         |               \n",
      "q1-------------------o-----|    H    |-----|-----|P(+1.571)|---------------\n",
      "                           |         |     |     |         |               \n",
      "                            ---------      |      ---------                \n",
      "                                           |          |      ---------     \n",
      "                                           |          |     |         |    \n",
      "q2-----------------------------------------o----------o-----|    H    |----\n",
      "                                                            |         |    \n",
      "                                                             ---------     \n",
      "\n",
      "State after QFT:\n",
      "[ 0.354+0.000*j  0.354+0.000*j  0.354+0.000*j  0.354+0.000*j  0.354+0.000*j  0.354+0.000*j  0.354+0.000*j  0.354+0.000*j ]\n"
     ]
    }
   ],
   "source": [
    "psi_qelvin = QRegister(N)\n",
    "circ_qelvin = QCircuit(psi_qelvin)\n",
    "\n",
    "print(\"State before QFT:\")\n",
    "print(circ_qelvin.state())\n",
    "\n",
    "for j in range(N):\n",
    "    for k in range (j):\n",
    "        circ_qelvin.cp(np.pi/float(2**(j-k)), j, k)\n",
    "    circ_qelvin.h(j)\n",
    "\n",
    "print(circ_qelvin)\n",
    "\n",
    "circ_qelvin.run()\n",
    "\n",
    "outputstate_qelvin = circ_qelvin.state()\n",
    "\n",
    "print(\"State after QFT:\")\n",
    "print(outputstate_qelvin)"
   ]
  },
  {
   "cell_type": "code",
   "execution_count": null,
   "id": "d1c58a2b-bcc0-44ca-b573-05eec4f24ac9",
   "metadata": {},
   "outputs": [],
   "source": []
  }
 ],
 "metadata": {
  "kernelspec": {
   "display_name": "Python 3 (ipykernel)",
   "language": "python",
   "name": "python3"
  },
  "language_info": {
   "codemirror_mode": {
    "name": "ipython",
    "version": 3
   },
   "file_extension": ".py",
   "mimetype": "text/x-python",
   "name": "python",
   "nbconvert_exporter": "python",
   "pygments_lexer": "ipython3",
   "version": "3.10.12"
  }
 },
 "nbformat": 4,
 "nbformat_minor": 5
}
