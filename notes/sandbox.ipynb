{
 "cells": [
  {
   "cell_type": "code",
   "execution_count": 1,
   "id": "c070ef03-7fb1-4f87-8552-be525b70194f",
   "metadata": {},
   "outputs": [],
   "source": [
    "from qelvin import QCircuit, QRegister\n",
    "import numpy as np"
   ]
  },
  {
   "cell_type": "code",
   "execution_count": 3,
   "id": "c368e41c-9fc2-4d4c-a0f1-220fb91a4180",
   "metadata": {},
   "outputs": [
    {
     "name": "stdout",
     "output_type": "stream",
     "text": [
      "[ 0.000+0.000*j  0.707+0.000*j  0.000+0.000*j  0.707+0.000*j ]\n",
      "      -------  \n",
      "     |       | \n",
      "q0---|   X   |----\n",
      "     |       | \n",
      "      -------  \n",
      "         |     \n",
      "         |     \n",
      "q1-------o--------\n",
      "               \n",
      "               \n",
      "\n",
      "[ 0.000+0.000*j  0.707+0.000*j  0.000+0.000*j  0.707+0.000*j ]\n"
     ]
    }
   ],
   "source": [
    "root = np.sqrt(0.5)\n",
    "psi = QRegister(2)\n",
    "psi[0b00] = (0.0, 0.0)\n",
    "psi[0b01] = (root, 0.0)\n",
    "psi[0b11] = (root, 0.0)\n",
    "\n",
    "circ = QCircuit(psi)\n",
    "\n",
    "print(circ.state())\n",
    "\n",
    "circ.cx(1, 0)\n",
    "\n",
    "print(circ)\n",
    "\n",
    "circ.run()\n",
    "\n",
    "print(circ.state())"
   ]
  },
  {
   "cell_type": "code",
   "execution_count": null,
   "id": "deaac715-9d5c-48dd-8262-97c24969d521",
   "metadata": {},
   "outputs": [],
   "source": []
  }
 ],
 "metadata": {
  "kernelspec": {
   "display_name": "Python (.env)",
   "language": "python",
   "name": ".env"
  },
  "language_info": {
   "codemirror_mode": {
    "name": "ipython",
    "version": 3
   },
   "file_extension": ".py",
   "mimetype": "text/x-python",
   "name": "python",
   "nbconvert_exporter": "python",
   "pygments_lexer": "ipython3",
   "version": "3.10.12"
  }
 },
 "nbformat": 4,
 "nbformat_minor": 5
}
