{
 "cells": [
  {
   "cell_type": "code",
   "execution_count": 4,
   "id": "c070ef03-7fb1-4f87-8552-be525b70194f",
   "metadata": {},
   "outputs": [],
   "source": [
    "import numpy as np\n",
    "import matplotlib.pyplot as plt\n",
    "import time\n",
    "\n",
    "from qiskit import QuantumRegister, QuantumCircuit\n",
    "from qiskit import Aer\n",
    "from qiskit.visualization import plot_state_city\n",
    "import qiskit.quantum_info as qi\n",
    "\n",
    "from qelvin import QRegister, QCircuit"
   ]
  },
  {
   "cell_type": "code",
   "execution_count": 50,
   "id": "c368e41c-9fc2-4d4c-a0f1-220fb91a4180",
   "metadata": {},
   "outputs": [
    {
     "name": "stdout",
     "output_type": "stream",
     "text": [
      "0b0 -> (0.7071067811865476, 0.0)\n",
      "0b1 -> (0.7071067811865476, 0.0)\n",
      "0b10 -> (0.0, 0.0)\n",
      "0b11 -> (0.0, 0.0)\n",
      "0b100 -> (0.0, 0.0)\n",
      "0b101 -> (0.0, 0.0)\n",
      "0b110 -> (0.0, 0.0)\n",
      "0b111 -> (0.0, 0.0)\n"
     ]
    }
   ],
   "source": [
    "backend = Aer.get_backend('statevector_simulator')\n",
    "\n",
    "N = 3\n",
    "\n",
    "psi = QRegister(N)\n",
    "circ = QCircuit(psi)\n",
    "\n",
    "circ.h(0)\n",
    "\n",
    "for i in range(100):\n",
    "    circ.cp(-np.pi/2.0, 0, 1)\n",
    "\n",
    "circ.run()\n",
    "\n",
    "psi_out = circ.state()\n",
    "for (i, (real, imag)) in enumerate(psi_out):\n",
    "    print(f\"{bin(i)} -> ({real}, {imag})\")"
   ]
  },
  {
   "cell_type": "code",
   "execution_count": null,
   "id": "94cd386e-f0ef-4ca9-8936-4fd6745c8004",
   "metadata": {},
   "outputs": [],
   "source": []
  }
 ],
 "metadata": {
  "kernelspec": {
   "display_name": "Python 3 (ipykernel)",
   "language": "python",
   "name": "python3"
  },
  "language_info": {
   "codemirror_mode": {
    "name": "ipython",
    "version": 3
   },
   "file_extension": ".py",
   "mimetype": "text/x-python",
   "name": "python",
   "nbconvert_exporter": "python",
   "pygments_lexer": "ipython3",
   "version": "3.10.12"
  }
 },
 "nbformat": 4,
 "nbformat_minor": 5
}
