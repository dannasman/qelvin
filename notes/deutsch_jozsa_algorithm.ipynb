{
 "cells": [
  {
   "cell_type": "markdown",
   "id": "69ad523a-c5b0-4951-aa91-c4a5ef5c98fd",
   "metadata": {},
   "source": [
    "# The Deutsch-Jozsa algorithm"
   ]
  },
  {
   "cell_type": "markdown",
   "id": "9527307e-33cf-40ee-ab8e-9bd1936b8f64",
   "metadata": {},
   "source": [
    "**Inputs**: A black box $U_f$ which performs the transformation $|x\\rangle|y\\rangle\\rightarrow|x\\rangle|y\\oplus f(x)\\rangle$, for $x\\in\\left\\{0,...,2^n-1\\right\\}$ and $f(x)\\in\\left\\{0, 1\\right\\}$. It is promised that $f(x)$ is either *constant* for all values of $x$, or else $f(x)$ is *balanced*, that is, equal to $1$ for exactly half of all the possible $x$, and $0$ for the other half.\n",
    "\n",
    "**Outputs**: $0$ if and only if $f$ is constant.\n",
    "\n",
    "**Runtime**: One evaluation of $U_f$. Always succeeds.\n",
    "\n",
    "**Procedure**:\n",
    "\n",
    "1. $|0\\rangle^{\\otimes n}|1\\rangle$ (initialize state)\n",
    "2. $\\rightarrow\\frac{1}{\\sqrt{2^n}}\\sum_{x=0}^{2^n-1}|x\\rangle\\left[\\frac{|0\\rangle-|1\\rangle}{\\sqrt{2}}\\right]$ (create superposition using Hadamard gates)\n",
    "3. $\\rightarrow\\sum_x(-1)^{f(x)}|x\\rangle\\left[\\frac{|0\\rangle-|1\\rangle}{\\sqrt{2}}\\right]$ (calculate function $f$ using $U_f$)\n",
    "4. $\\rightarrow\\sum_z\\sum_x\\frac{(-1)^{x\\cdot z+f(x)}|z\\rangle}{\\sqrt{2^n}}\\left[\\frac{|0\\rangle-|1\\rangle}{\\sqrt{2}}\\right]$, where $z\\cdot x$ is the bitwise inner product of $x$ and $z$, modulo 2 (perform Hadamard transform)\n",
    "5. $\\rightarrow z$ (measure to obtain final output $z$)"
   ]
  },
  {
   "cell_type": "markdown",
   "id": "b1a5ba2a",
   "metadata": {},
   "source": [
    "## Example case"
   ]
  },
  {
   "cell_type": "markdown",
   "id": "58403887-899f-4115-ac92-a5fa11bc37c9",
   "metadata": {},
   "source": [
    "This $N$ qubit circuit determines whether the function\n",
    "\n",
    "$$\\begin{equation}\n",
    "f(x)=\\begin{cases}\n",
    "1, & x~\\mathrm{is~odd}\\\\\n",
    "0, & x~\\mathrm{is~even}\n",
    "\\end{cases},\n",
    "\\end{equation}$$\n",
    "\n",
    "is a constant or balanced function for $0\\leq x<2^N$."
   ]
  },
  {
   "cell_type": "code",
   "execution_count": 16,
   "id": "5b591110-cf52-4acb-838a-91f64fb46f06",
   "metadata": {},
   "outputs": [
    {
     "name": "stdout",
     "output_type": "stream",
     "text": [
      "      -------           -------  \n",
      "     |       |         |       | \n",
      "q0---|   H   |----o----|   H   |----\n",
      "     |       |    |    |       | \n",
      "      -------     |     -------  \n",
      "      -------     |     -------  \n",
      "     |       |    |    |       | \n",
      "q1---|   H   |----|----|   H   |----\n",
      "     |       |    |    |       | \n",
      "      -------     |     -------  \n",
      "      -------  -------           \n",
      "     |       ||       |          \n",
      "q2---|   H   ||   X   |-------------\n",
      "     |       ||       |          \n",
      "      -------  -------           \n",
      "\n",
      "Function is balanced\n"
     ]
    }
   ],
   "source": [
    "import numpy as np\n",
    "from qelvin import QCircuit, QRegister\n",
    "\n",
    "N = 3\n",
    "\n",
    "# Step 1\n",
    "psi_input = QRegister(N, (1 << (N - 1)))\n",
    "circ = QCircuit(psi_input)\n",
    "\n",
    "# Step 2\n",
    "for i in range(0, N):\n",
    "    circ.h(i)\n",
    "\n",
    "# Step 3\n",
    "#circ.cx(N - 2, N - 1)\n",
    "circ.cx(0, N-1)\n",
    "\n",
    "# Step 4\n",
    "for i in range(0, N - 1):\n",
    "    circ.h(i)\n",
    "\n",
    "print(circ)\n",
    "\n",
    "circ.run()\n",
    "\n",
    "\n",
    "# Step 5\n",
    "\n",
    "psi_output = circ.state()\n",
    "\n",
    "real0, imag0 = psi_output[0]\n",
    "real1, imag1 = psi_output[1 << (N-1)]\n",
    "\n",
    "is_constant = real0*real0 + imag0*imag0 + real1*real1 + imag1*imag1\n",
    "\n",
    "if abs(is_constant) < 1e-9:\n",
    "    print(\"Function is balanced\")\n",
    "elif abs(is_constant-1.0) < 1e-9:\n",
    "    print(\"Function is constant\")"
   ]
  }
 ],
 "metadata": {
  "kernelspec": {
   "display_name": "Python 3 (ipykernel)",
   "language": "python",
   "name": "python3"
  },
  "language_info": {
   "codemirror_mode": {
    "name": "ipython",
    "version": 3
   },
   "file_extension": ".py",
   "mimetype": "text/x-python",
   "name": "python",
   "nbconvert_exporter": "python",
   "pygments_lexer": "ipython3",
   "version": "3.10.12"
  }
 },
 "nbformat": 4,
 "nbformat_minor": 5
}
